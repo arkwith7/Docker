{
 "cells": [
  {
   "cell_type": "code",
   "execution_count": 1,
   "id": "61a0ff93-e7ea-4a1d-8434-ee21c00c260a",
   "metadata": {},
   "outputs": [],
   "source": [
    "import pdfplumber"
   ]
  },
  {
   "cell_type": "code",
   "execution_count": 2,
   "id": "d32f03de-724b-413a-b177-dd17ea4f82a9",
   "metadata": {},
   "outputs": [],
   "source": [
    "PDF_FILE_PATH=\"판매약관_신한멀티라이프변액유니버설종신보험(무배당)_240903.pdf\""
   ]
  },
  {
   "cell_type": "code",
   "execution_count": 3,
   "id": "f174190b-c99a-4867-b7db-3bc049fc8a61",
   "metadata": {},
   "outputs": [],
   "source": [
    "pdf = pdfplumber.open(PDF_FILE_PATH)\n",
    "pages = pdf.pages\n",
    "text = \"\"\n",
    "for page in pages:\n",
    "    sub = page.extract_text()\n",
    "    text += sub\n"
   ]
  },
  {
   "cell_type": "code",
   "execution_count": 4,
   "id": "8f495f44-f972-4146-887b-f4ffa3ac4bf1",
   "metadata": {},
   "outputs": [
    {
     "name": "stdout",
     "output_type": "stream",
     "text": [
      "263238\n"
     ]
    }
   ],
   "source": [
    "print(len(text))"
   ]
  },
  {
   "cell_type": "code",
   "execution_count": 5,
   "id": "ebf072d9-6a72-4590-a857-7288fc14a1bf",
   "metadata": {},
   "outputs": [
    {
     "name": "stdout",
     "output_type": "stream",
     "text": [
      "신한멀티라이프변\n",
      "신한멀티라이프\n",
      "액유니버설종신보\n",
      "변액유니버설종신보험\n",
      "험(무배당)\n",
      "(무배당)\n",
      "(cid:101)(cid:23)(cid:13)(cid:16)(cid:23)(cid:1)(cid:1)(cid:1)(cid:3)(cid:3)(cid:102)\n",
      "202000000022512122\n",
      "21987001\n",
      "C9999999\n",
      "C3756001\n",
      "SHJ00058\n",
      "SHJ00053\n",
      "SHJ00063\n",
      "SHJ00056\n",
      "SHJ00055\n",
      "SHJ00054\n",
      "SHJ00068\n",
      "SHJ00052\n",
      "SHB00000\n",
      "SHB01000\n",
      "SHB03000\n",
      "SHB05001\n",
      "SHB08001\n",
      "SHB08002\n",
      "SHB08004\n",
      "SHB11002\n",
      "SHB12002\n",
      "SHB14003\n",
      "SHB46000고객 권리 안내문\n",
      "금융서비스 이용범위\n",
      "신한라이프는 고객님의 개인신용정보처리 동의목적 범위(금융거래설정/유지여부판단, 고객동의사항 등)내에서\n",
      "최소한의 정보만 수집, 이용하고 있습니다.\n",
      "고객님께서는 상품소개 목적 등의 동의여부와 관계없이 금융거래체결 및 해당 금융서비스\n"
     ]
    }
   ],
   "source": [
    "print(text[:500])"
   ]
  },
  {
   "cell_type": "code",
   "execution_count": null,
   "id": "2d65d0ac-1298-4fcd-bc4e-4590c7fc409d",
   "metadata": {},
   "outputs": [],
   "source": []
  }
 ],
 "metadata": {
  "kernelspec": {
   "display_name": "Python 3 (ipykernel)",
   "language": "python",
   "name": "python3"
  },
  "language_info": {
   "codemirror_mode": {
    "name": "ipython",
    "version": 3
   },
   "file_extension": ".py",
   "mimetype": "text/x-python",
   "name": "python",
   "nbconvert_exporter": "python",
   "pygments_lexer": "ipython3",
   "version": "3.11.10"
  }
 },
 "nbformat": 4,
 "nbformat_minor": 5
}
