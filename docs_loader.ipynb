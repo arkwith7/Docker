{
 "cells": [
  {
   "cell_type": "code",
   "execution_count": 1,
   "id": "326eb774-30a9-4cc4-906a-2db046053f90",
   "metadata": {},
   "outputs": [],
   "source": [
    "from llama_index.core import SimpleDirectoryReader\n",
    "from llama_index.readers.file import (\n",
    "    DocxReader,\n",
    "    HWPReader,\n",
    "    PyMuPDFReader,\n",
    ")\n",
    "from pathlib import Path"
   ]
  },
  {
   "cell_type": "code",
   "execution_count": 2,
   "id": "30909199-72e1-4f8d-8b9d-2795e17c2dce",
   "metadata": {},
   "outputs": [
    {
     "name": "stdout",
     "output_type": "stream",
     "text": [
      "[Document(id_='42f8b398-246e-4244-b050-18b23e59bc52', embedding=None, metadata={'total_pages': 330, 'file_path': '판매약관_신한멀티라이프변액유니버설종신보험(무배당)_240903.pdf', 'source': '8'}, excluded_embed_metadata_keys=[], excluded_llm_metadata_keys=[], relationships={}, text='제18조 약관교부 및 설명의무 등\\n65\\n제19조 계약의 무효\\n66\\n제20조 계약내용의 변경 등\\n67\\n제21조 보험나이 등\\n70\\n제22조 계약의 소멸\\n71\\n제5관 보험료의 납입\\n71\\n제23조 제1회 보험료 및 회사의 보장개시\\n71\\n제24조 제2회 이후 보험료의 납입\\n72\\n제24조의2 납입된 보험료의 처리\\n73\\n제25조 보험료의 자동대출납입\\n77\\n제26조 보험료의 납입이 연체되는 경우 납입최고(독촉)와 계약의 해지\\n77\\n제27조 보험료의 납입을 연체하여 해지된 계약의 부활(효력회복)\\n79\\n제28조 강제집행 등으로 인하여 해지된 계약의 특별부활(효력회복)\\n81\\n제6관 특별계정에 관한 사항\\n82\\n제29조 계약자적립금의 계산\\n82\\n제30조 펀드의 운용 및 평가\\n82\\n제31조 펀드의 종류\\n82\\n제32조 계약자의 펀드 선택 및 변경\\n88\\n제33조 펀드자동재배분\\n90\\n제33조의2 평균분할투자 (적립형 계약에 한합니다)\\n90\\n제34조 자산의 평가방법 및 운용\\n91\\n제35조 특별계정 좌수 및 기준가격\\n92\\n제36조 특별계정의 제비용 및 보수에 관한 사항\\n92\\n제37조 특별계정의 폐지\\n92\\n제38조 계약자 공지에 관한 사항\\n93\\n제39조 기타사항\\n93\\n제7관 계약의 해지 및 해지환급금 등\\n93\\n제40조 계약자의 임의해지 및 피보험자의 서면동의 철회권\\n93\\n제40조의2 위법계약의 해지\\n94\\n제41조 중대사유로 인한 해지\\n94\\n제42조 회사의 파산선고와 해지\\n95\\n제43조 해지환급금\\n95\\n제43조의2 계약자적립금의 인출\\n96\\n제44조 보험계약대출\\n98\\n신한멀티라이프변액유니버설종신보험(무배당)\\n8\\n', mimetype='text/plain', start_char_idx=None, end_char_idx=None, text_template='{metadata_str}\\n\\n{content}', metadata_template='{key}: {value}', metadata_seperator='\\n')]\n"
     ]
    }
   ],
   "source": [
    "loader = PyMuPDFReader()\n",
    "documents = loader.load_data(file_path=Path(\"판매약관_신한멀티라이프변액유니버설종신보험(무배당)_240903.pdf\"), metadata=True)\n",
    " \n",
    "print([doc for doc in documents if doc.metadata.get('source') == '8']) # 8쪽만 확인"
   ]
  },
  {
   "cell_type": "code",
   "execution_count": null,
   "id": "bd57c7e5-47c9-40f5-b437-9f75ed7f9b00",
   "metadata": {},
   "outputs": [],
   "source": []
  }
 ],
 "metadata": {
  "kernelspec": {
   "display_name": "Python 3 (ipykernel)",
   "language": "python",
   "name": "python3"
  },
  "language_info": {
   "codemirror_mode": {
    "name": "ipython",
    "version": 3
   },
   "file_extension": ".py",
   "mimetype": "text/x-python",
   "name": "python",
   "nbconvert_exporter": "python",
   "pygments_lexer": "ipython3",
   "version": "3.11.10"
  }
 },
 "nbformat": 4,
 "nbformat_minor": 5
}
