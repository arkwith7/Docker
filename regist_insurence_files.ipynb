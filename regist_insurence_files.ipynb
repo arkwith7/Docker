{
 "cells": [
  {
   "cell_type": "code",
   "execution_count": 1,
   "metadata": {},
   "outputs": [
    {
     "data": {
      "text/plain": [
       "False"
      ]
     },
     "execution_count": 1,
     "metadata": {},
     "output_type": "execute_result"
    }
   ],
   "source": [
    "import requests\n",
    "import os\n",
    "from dotenv import load_dotenv\n",
    "\n",
    "load_dotenv()  # 환경 변수 로드"
   ]
  },
  {
   "cell_type": "code",
   "execution_count": 2,
   "metadata": {},
   "outputs": [
    {
     "name": "stdout",
     "output_type": "stream",
     "text": [
      "Failed to authenticate: 422\n",
      "None\n"
     ]
    }
   ],
   "source": [
    "# 사용자 인증을 통해 API 토큰을 얻음. 이 토큰은 이후 API 호출에서 사용됨.\n",
    "def authenticate():\n",
    "    url = 'https://bmt.eurekachat.ai:8443/api/v2/auth/login'\n",
    "    payload = {\n",
    "        'username': os.getenv('USERNAME'),\n",
    "        'password': os.getenv('PASSWORD'),\n",
    "        'tenant_id': os.getenv('TENANT_ID')\n",
    "    }\n",
    "    headers = {\n",
    "        'accept': 'application/json',\n",
    "        'Content-Type': 'application/x-www-form-urlencoded'\n",
    "    }\n",
    "\n",
    "    response = requests.post(url, data=payload, headers=headers)\n",
    "    \n",
    "    if response.status_code == 200:\n",
    "        return response.json()['access_token']\n",
    "    else:\n",
    "        print(f\"Failed to authenticate: {response.status_code}\")\n",
    "        return None\n",
    "\n",
    "token = authenticate()\n",
    "print(token)"
   ]
  },
  {
   "cell_type": "code",
   "execution_count": 3,
   "metadata": {},
   "outputs": [
    {
     "name": "stdout",
     "output_type": "stream",
     "text": [
      "Failed to authenticate: 422\n"
     ]
    }
   ],
   "source": [
    "# 등록된 문서 확인\n",
    "def get_documents(auth_token):\n",
    "    url = 'https://bmt.eurekachat.ai:8443/api/v2/docs/infos/manage/'\n",
    "    headers = {\n",
    "        'accept': 'application/json',\n",
    "        'Authorization': f'{auth_token}'\n",
    "    }\n",
    "    # print(auth_token)\n",
    "    response = requests.get(url, headers=headers)\n",
    "    print(response.json())\n",
    "    if response.status_code == 200:\n",
    "        documents = response.json()['list']\n",
    "        for doc in documents:\n",
    "            print(f\"Document: {doc['name']}, Status: {doc['status']}\")\n",
    "    else:\n",
    "        print(f\"Failed to retrieve documents: {response.status_code}\")\n",
    "\n",
    "# Example usage:\n",
    "token = authenticate()\n",
    "if token:\n",
    "    get_documents(token)\n"
   ]
  },
  {
   "cell_type": "code",
   "execution_count": 4,
   "metadata": {},
   "outputs": [
    {
     "name": "stdout",
     "output_type": "stream",
     "text": [
      "Failed to authenticate: 422\n"
     ]
    }
   ],
   "source": [
    "def query_documents(auth_token, query, docs_ids):\n",
    "    url = 'https://bmt.eurekachat.ai:8443/api/v2/indices/chat?use_memory=false&use_agent=false&use_merge=false&stream=true'\n",
    "    headers = {\n",
    "        'accept': 'application/json',\n",
    "        'Authorization': f'{auth_token}',\n",
    "        'Content-Type': 'application/x-www-form-urlencoded'\n",
    "    }\n",
    "    payload = {\n",
    "        'query': query,\n",
    "        'docs_id': ','.join(docs_ids),\n",
    "        'tenant_opts_id': '4ac3a1b30e0a051171a5bf7fd051ebcf2a7da6b0b98bbdac0ef5e347223cd777'\n",
    "    }\n",
    "    \n",
    "    response = requests.post(url, data=payload, headers=headers)\n",
    "    \n",
    "    if response.status_code == 200:\n",
    "        print(response.json())\n",
    "    else:\n",
    "        print(f\"Failed to query documents: {response.status_code}\")\n",
    "\n",
    "# Example usage:\n",
    "query = \"이 상품의 주요 특징에 대해 간단히 알려주세요\"\n",
    "docs_ids = ['313df4e36d112f233e533f14b0b1a4da65ac3acc6528e41f8511887f35d90d47',\n",
    "            '49976be3b043e2eb696c00e44d246b1462321178399659a691623c69bb6d422d']\n",
    "token = authenticate()\n",
    "if token:\n",
    "    query_documents(token, query, docs_ids)\n"
   ]
  },
  {
   "cell_type": "code",
   "execution_count": 5,
   "metadata": {},
   "outputs": [
    {
     "name": "stdout",
     "output_type": "stream",
     "text": [
      "Failed to authenticate: 422\n"
     ]
    }
   ],
   "source": [
    "# 여러 건의 문서 등록\n",
    "def register_documents(auth_token, documents):\n",
    "    url = 'https://bmt.eurekachat.ai:8443/api/v2/docs/infos/'\n",
    "    headers = {\n",
    "        'accept': 'application/json',\n",
    "        'Authorization': f'{auth_token}'\n",
    "    }\n",
    "    \n",
    "    for document in documents:\n",
    "        files = {\n",
    "            'name': (None, document['name']),\n",
    "            'desc': (None, document['desc']),\n",
    "            'category_id': (None, str(document['category_id'])),\n",
    "            'status': (None, document['status']),\n",
    "            'keyword': (None, document.get('keyword', '')),\n",
    "            'product_name': (None, document.get('product_name', '')),\n",
    "            'opts_id': (None, document['opts_id'])\n",
    "        }\n",
    "        \n",
    "        response = requests.post(url, headers=headers, files=files)\n",
    "        \n",
    "        if response.status_code == 200:\n",
    "            print(f\"Document '{document['name']}' registered successfully.\")\n",
    "        else:\n",
    "            print(f\"Failed to register document '{document['name']}': {response.status_code}\")\n",
    "\n",
    "# Example usage:\n",
    "documents = [\n",
    "    {\n",
    "        'name': 'Document 1',\n",
    "        'desc': 'Description of document 1',\n",
    "        'category_id': 7,\n",
    "        'status': 'DONE',\n",
    "        'opts_id': '4ac3a1b30e0a051171a5bf7fd051ebcf2a7da6b0b98bbdac0ef5e347223cd777'\n",
    "    },\n",
    "    {\n",
    "        'name': 'Document 2',\n",
    "        'desc': 'Description of document 2',\n",
    "        'category_id': 9,\n",
    "        'status': 'DONE',\n",
    "        'opts_id': 'e3e2ec97dc1ee5053f00492ea0181e1c2637d39874c1d7c2986ef408faed9389'\n",
    "    }\n",
    "]\n",
    "\n",
    "token = authenticate()\n",
    "if token:\n",
    "    register_documents(token, documents)"
   ]
  }
 ],
 "metadata": {
  "kernelspec": {
   "display_name": "Python 3",
   "language": "python",
   "name": "python3"
  },
  "language_info": {
   "codemirror_mode": {
    "name": "ipython",
    "version": 3
   },
   "file_extension": ".py",
   "mimetype": "text/x-python",
   "name": "python",
   "nbconvert_exporter": "python",
   "pygments_lexer": "ipython3",
   "version": "3.11.5"
  }
 },
 "nbformat": 4,
 "nbformat_minor": 2
}
