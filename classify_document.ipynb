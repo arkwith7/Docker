{
 "cells": [
  {
   "cell_type": "code",
   "execution_count": 1,
   "metadata": {},
   "outputs": [
    {
     "name": "stderr",
     "output_type": "stream",
     "text": [
      "[nltk_data] Downloading package punkt_tab to /Users/saintphs/Desktop/D\n",
      "[nltk_data]     ev/shinhan_life/venv/lib/python3.11/site-\n",
      "[nltk_data]     packages/llama_index/core/_static/nltk_cache...\n",
      "[nltk_data]   Package punkt_tab is already up-to-date!\n"
     ]
    }
   ],
   "source": [
    "from llama_index.core import SimpleDirectoryReader\n",
    "from llama_index.readers.file import DocxReader, HWPReader, PyMuPDFReader\n",
    "from pathlib import Path"
   ]
  },
  {
   "cell_type": "code",
   "execution_count": 2,
   "metadata": {},
   "outputs": [],
   "source": [
    "# 문서 종류별 주요 키워드 정의\n",
    "document_keywords = {\n",
    "    \"판매약관\": [\"보험약관\", \"약관\"],\n",
    "    \"사업방법서\": [\"사방서\", \"방법서\"]\n",
    "}"
   ]
  },
  {
   "cell_type": "code",
   "execution_count": 3,
   "metadata": {},
   "outputs": [],
   "source": [
    "def classify_document(text, keywords):\n",
    "    for category, key_list in keywords.items():\n",
    "        if any(key in text for key in key_list):\n",
    "            return category\n",
    "    return \"분류 불가\"\n",
    "\n"
   ]
  },
  {
   "cell_type": "code",
   "execution_count": 4,
   "metadata": {},
   "outputs": [],
   "source": [
    "def process_document(file_path, file_type):\n",
    "    if file_type == 'docx':\n",
    "        loader = DocxReader()\n",
    "    elif file_type == 'pdf':\n",
    "        loader = PyMuPDFReader()\n",
    "    elif file_type == 'hwp':\n",
    "        loader = HWPReader()\n",
    "    else:\n",
    "        return \"지원하지 않는 파일 형식입니다.\"\n",
    "\n",
    "    # 파일 경로를 직접 전달합니다.\n",
    "    if file_type == 'pdf':\n",
    "        documents = loader.load_data(Path(file_path))\n",
    "    else:\n",
    "        documents = loader.load_data(file=Path(file_path))\n",
    "    \n",
    "    # 문서의 전체 텍스트를 가져옵니다. 여기서는 첫 번째 문서의 텍스트만 사용합니다.\n",
    "    text = documents[0].text if documents else \"\"\n",
    "    document_type = classify_document(text, document_keywords)\n",
    "    return document_type"
   ]
  },
  {
   "cell_type": "code",
   "execution_count": 5,
   "metadata": {},
   "outputs": [
    {
     "name": "stdout",
     "output_type": "stream",
     "text": [
      "문서 종류: 분류 불가\n"
     ]
    }
   ],
   "source": [
    "# 파일 경로와 타입 예시\n",
    "file_path = './판매약관_신한멀티라이프변액유니버설종신보험(무배당)_240903.pdf'\n",
    "file_type = 'pdf'\n",
    "document_type = process_document(file_path, file_type)\n",
    "print(f\"문서 종류: {document_type}\")"
   ]
  }
 ],
 "metadata": {
  "kernelspec": {
   "display_name": "venv",
   "language": "python",
   "name": "python3"
  },
  "language_info": {
   "codemirror_mode": {
    "name": "ipython",
    "version": 3
   },
   "file_extension": ".py",
   "mimetype": "text/x-python",
   "name": "python",
   "nbconvert_exporter": "python",
   "pygments_lexer": "ipython3",
   "version": "3.11.5"
  }
 },
 "nbformat": 4,
 "nbformat_minor": 2
}
