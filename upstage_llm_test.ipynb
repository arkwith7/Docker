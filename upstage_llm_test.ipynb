{
 "cells": [
  {
   "cell_type": "code",
   "execution_count": 4,
   "id": "f23a8271-7c05-4acd-83b6-d4bdba297b1d",
   "metadata": {},
   "outputs": [],
   "source": [
    "import os\n",
    "import requests\n",
    "\n",
    "llm_url = os.environ['LLM_SERVICE_URL']\n",
    "embedding_url = os.environ['EMBEDDING_SERVICE_URL']\n",
    "doc_parser_url = os.environ['DOC_PARSER_SERVICE_URL']\n",
    "api_key = os.environ['UPSTAGE_API_KEY']"
   ]
  },
  {
   "cell_type": "code",
   "execution_count": 5,
   "id": "17571a42-4d1a-4701-9e2b-eb43b60f2c28",
   "metadata": {},
   "outputs": [
    {
     "name": "stdout",
     "output_type": "stream",
     "text": [
      "https://api.upstage.ai/v1/solar\n"
     ]
    }
   ],
   "source": [
    "print(llm_url)"
   ]
  },
  {
   "cell_type": "code",
   "execution_count": 7,
   "id": "f65dd97a-d8b1-4714-b953-28be62bf0ecc",
   "metadata": {},
   "outputs": [
    {
     "name": "stdout",
     "output_type": "stream",
     "text": [
      "up_xHRxAmCZHbKDbQT0uiBO3VrfJXYxk\n"
     ]
    }
   ],
   "source": [
    "print(api_key)"
   ]
  },
  {
   "cell_type": "code",
   "execution_count": 8,
   "id": "ff9785e4-3790-4a32-8277-56e69fedd7e4",
   "metadata": {},
   "outputs": [],
   "source": [
    "from openai import OpenAI # openai==1.2.0"
   ]
  },
  {
   "cell_type": "code",
   "execution_count": 9,
   "id": "9656eff2-0520-4ff9-8be6-3d708c2e8e6b",
   "metadata": {},
   "outputs": [],
   "source": [
    "client = OpenAI(\n",
    "    api_key=api_key,\n",
    "    base_url=llm_url\n",
    ")"
   ]
  },
  {
   "cell_type": "code",
   "execution_count": 10,
   "id": "9f919790-1308-420d-a331-404c3c4510a9",
   "metadata": {},
   "outputs": [],
   "source": [
    "stream = client.chat.completions.create(\n",
    "    model=\"solar-pro\",\n",
    "    messages=[\n",
    "        {\n",
    "            \"role\": \"user\",\n",
    "            \"content\": \"안녕하세요, 요즘 어때요?\"\n",
    "        }\n",
    "    ],\n",
    "    stream=True,\n",
    ")"
   ]
  },
  {
   "cell_type": "code",
   "execution_count": 11,
   "id": "8e7cac77-cf9f-48a5-87d7-1f1128965108",
   "metadata": {},
   "outputs": [
    {
     "name": "stdout",
     "output_type": "stream",
     "text": [
      "안녕하세요! I'm just a computer program so I don't have feelings, but I'm always ready to help you with anything you need."
     ]
    }
   ],
   "source": [
    "for chunk in stream:\n",
    "    if chunk.choices[0].delta.content is not None:\n",
    "        print(chunk.choices[0].delta.content, end=\"\")"
   ]
  },
  {
   "cell_type": "code",
   "execution_count": null,
   "id": "0c596201-af42-437f-beaf-54fbd35c7309",
   "metadata": {},
   "outputs": [],
   "source": []
  }
 ],
 "metadata": {
  "kernelspec": {
   "display_name": "Python 3 (ipykernel)",
   "language": "python",
   "name": "python3"
  },
  "language_info": {
   "codemirror_mode": {
    "name": "ipython",
    "version": 3
   },
   "file_extension": ".py",
   "mimetype": "text/x-python",
   "name": "python",
   "nbconvert_exporter": "python",
   "pygments_lexer": "ipython3",
   "version": "3.11.10"
  }
 },
 "nbformat": 4,
 "nbformat_minor": 5
}
