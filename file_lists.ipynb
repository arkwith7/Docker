{
 "cells": [
  {
   "cell_type": "code",
   "execution_count": 1,
   "id": "9c8f2905-0938-4101-a236-0dd0888eb790",
   "metadata": {},
   "outputs": [],
   "source": [
    "import os\n",
    "import csv\n",
    "from datetime import datetime"
   ]
  },
  {
   "cell_type": "code",
   "execution_count": 2,
   "id": "17445e51-dbb9-401a-a3be-8e80a7a10a6c",
   "metadata": {},
   "outputs": [],
   "source": [
    "def get_file_list(root_dir, extension):\n",
    "    file_list = []\n",
    "    for root, dirs, files in os.walk(root_dir):\n",
    "        for file in files:\n",
    "            if file.lower().endswith(extension.lower()):\n",
    "                file_path = os.path.join(root, file)\n",
    "                file_stats = os.stat(file_path)\n",
    "                file_info = {\n",
    "                    'name': file,\n",
    "                    'path': file_path,\n",
    "                    'size': file_stats.st_size,\n",
    "                    'created_time': datetime.fromtimestamp(file_stats.st_ctime).strftime('%Y-%m-%d %H:%M:%S')\n",
    "                }\n",
    "                file_list.append(file_info)\n",
    "    return file_list\n",
    "\n"
   ]
  },
  {
   "cell_type": "code",
   "execution_count": 3,
   "id": "52d717b8-f314-430f-a955-da905faba398",
   "metadata": {},
   "outputs": [],
   "source": [
    "def save_to_csv(file_list, output_file):\n",
    "    with open(output_file, 'w', newline='', encoding='utf-8') as csvfile:\n",
    "        fieldnames = ['name', 'path', 'size', 'created_time']\n",
    "        writer = csv.DictWriter(csvfile, fieldnames=fieldnames)\n",
    "        \n",
    "        writer.writeheader()\n",
    "        for file_info in file_list:\n",
    "            writer.writerow(file_info)\n",
    "\n"
   ]
  },
  {
   "cell_type": "code",
   "execution_count": 4,
   "id": "06b550d2-9f19-4344-a9cb-ac652ac3ab43",
   "metadata": {},
   "outputs": [
    {
     "name": "stdout",
     "output_type": "stream",
     "text": [
      ".pdf 파일 목록이 /workspace/pdf_file_list.csv에 저장되었습니다.\n"
     ]
    }
   ],
   "source": [
    "# 사용 예\n",
    "host_docs_path = '/workspace/host_docs'  # host_docs 디렉토리 경로\n",
    "output_csv_path = '/workspace/pdf_file_list.csv'  # 출력 CSV 파일 경로\n",
    "file_extension = '.pdf'  # 원하는 파일 확장자\n",
    "\n",
    "file_list = get_file_list(host_docs_path, file_extension)\n",
    "save_to_csv(file_list, output_csv_path)\n",
    "\n",
    "print(f\"{file_extension} 파일 목록이 {output_csv_path}에 저장되었습니다.\")"
   ]
  },
  {
   "cell_type": "code",
   "execution_count": null,
   "id": "89e6af01-6c12-4bd1-b17f-ceb9bf825e71",
   "metadata": {},
   "outputs": [],
   "source": []
  }
 ],
 "metadata": {
  "kernelspec": {
   "display_name": "Python 3 (ipykernel)",
   "language": "python",
   "name": "python3"
  },
  "language_info": {
   "codemirror_mode": {
    "name": "ipython",
    "version": 3
   },
   "file_extension": ".py",
   "mimetype": "text/x-python",
   "name": "python",
   "nbconvert_exporter": "python",
   "pygments_lexer": "ipython3",
   "version": "3.11.10"
  }
 },
 "nbformat": 4,
 "nbformat_minor": 5
}
